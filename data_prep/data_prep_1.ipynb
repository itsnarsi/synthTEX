{
 "cells": [
  {
   "cell_type": "code",
   "execution_count": 1,
   "metadata": {},
   "outputs": [],
   "source": [
    "import os\n",
    "from glob import glob\n",
    "from tqdm import tqdm\n",
    "import numpy as np\n",
    "from PIL import Image"
   ]
  },
  {
   "cell_type": "code",
   "execution_count": 2,
   "metadata": {},
   "outputs": [],
   "source": [
    "src_fldr = r\"E:\\DATASETS\\Textures\\Julio_Sillet_textures\\textures_jpgs\""
   ]
  },
  {
   "cell_type": "code",
   "execution_count": 3,
   "metadata": {},
   "outputs": [],
   "source": [
    "all_imgs = glob(src_fldr + os.sep + \"*\" + os.sep + \"*\" + os.sep + \"*.png\") + glob(src_fldr + os.sep + \"*\" + os.sep + \"*\" + os.sep + \"*.jpg\") + glob(src_fldr + os.sep + \"*\" + os.sep + \"*\" + os.sep + \"*.jpeg\") + glob(src_fldr + os.sep + \"*\" + os.sep + \"*\" + os.sep + \"*.JPG\")"
   ]
  },
  {
   "cell_type": "code",
   "execution_count": 4,
   "metadata": {},
   "outputs": [],
   "source": [
    "all_label_ext = [os.path.splitext(os.path.split(x)[1])[0].split(\"_\")[-1] for x in all_imgs]\n",
    "label_ext = np.unique(all_label_ext)"
   ]
  },
  {
   "cell_type": "code",
   "execution_count": 5,
   "metadata": {},
   "outputs": [
    {
     "data": {
      "text/plain": [
       "array(['1', '2', 'AO', 'Ambient Occlusion', 'Base Color', 'BaseColor',\n",
       "       'Color', 'Color(1)', 'Diffuse', 'Glossiness', 'Glossiness(1)',\n",
       "       'Height', 'Height(1)', 'Metallic', 'Metallic(1)', 'Normal',\n",
       "       'Normal(1)', 'NormalOgl', 'NormalOgl(1)', 'OGL', 'Occlusion',\n",
       "       'Occlusion(1)', 'Opacity', 'Roughness', 'Roughness(1)',\n",
       "       'Scattering', 'Scattering(1)', 'Specular Level',\n",
       "       'ambientOcclusion', 'ambientOcclusion(1)', 'ambientocclusion',\n",
       "       'ambientocclusion(1)', 'baseColor', 'baseColor(1)', 'basecolor',\n",
       "       'basecolor(1)', 'diffuse', 'emissive', 'emissivemask',\n",
       "       'glossiness', 'glossiness(1)', 'height', 'height(1)', 'lightmask',\n",
       "       'metallic', 'metallic(1)', 'normal', 'normal(1)', 'normalOGL',\n",
       "       'normalOgl', 'normalOgl(1)', 'normalogl', 'occlusion',\n",
       "       'occlusion(1)', 'opacity', 'opacity(1)', 'output', 'roughness',\n",
       "       'roughness(1)', 'scattering', 'scattering(1)', 'specularLevel',\n",
       "       'specularLevel(1)'], dtype='<U19')"
      ]
     },
     "execution_count": 5,
     "metadata": {},
     "output_type": "execute_result"
    }
   ],
   "source": [
    "label_ext"
   ]
  },
  {
   "cell_type": "code",
   "execution_count": 6,
   "metadata": {},
   "outputs": [],
   "source": [
    "base_color_labels = ['Base Color', 'BaseColor', 'baseColor', 'basecolor', 'Diffuse', 'diffuse']#'baseColor(1)', 'basecolor(1)', \n",
    "normal_labels = ['normal', 'normal(1)', 'normalOGL', 'normalOgl', 'normalOgl(1)', 'normalogl']"
   ]
  },
  {
   "cell_type": "code",
   "execution_count": 7,
   "metadata": {},
   "outputs": [
    {
     "name": "stderr",
     "output_type": "stream",
     "text": [
      "100%|███████████████████████████████████████████████████████████████████████████████| 14/14 [00:00<00:00, 14044.55it/s]\n",
      "100%|████████████████████████████████████████████████████████████████████████████████████████████| 6/6 [00:00<?, ?it/s]\n",
      "100%|███████████████████████████████████████████████████████████████████████████████| 26/26 [00:00<00:00, 26020.50it/s]\n",
      "100%|█████████████████████████████████████████████████████████████████████████████| 322/322 [00:00<00:00, 24773.30it/s]\n",
      "100%|██████████████████████████████████████████████████████████████████████████████████| 2/2 [00:00<00:00, 2003.49it/s]\n",
      "100%|███████████████████████████████████████████████████████████████████████████████| 83/83 [00:00<00:00, 13837.09it/s]\n"
     ]
    }
   ],
   "source": [
    "img_pairs = []\n",
    "for bcl in base_color_labels:\n",
    "    ids_ = np.where(np.asarray(all_label_ext, dtype = np.object) == bcl)[0]\n",
    "    for i in tqdm(list(ids_)):\n",
    "        img = all_imgs[i]\n",
    "        \n",
    "        normal_img = None\n",
    "        specular_img = None\n",
    "        \n",
    "        #Check for Normal img\n",
    "        for label in normal_labels:\n",
    "            temp_img = img.replace(bcl, label)\n",
    "            if os.path.exists(temp_img):\n",
    "                normal_img = temp_img\n",
    "                break\n",
    "        if normal_img is not None:\n",
    "            img_pairs.append([img, normal_img])"
   ]
  },
  {
   "cell_type": "code",
   "execution_count": 8,
   "metadata": {},
   "outputs": [
    {
     "name": "stdout",
     "output_type": "stream",
     "text": [
      "Total number of image pairs: 442\n"
     ]
    }
   ],
   "source": [
    "print(\"Total number of image pairs: {}\".format(len(img_pairs)))"
   ]
  },
  {
   "cell_type": "code",
   "execution_count": 9,
   "metadata": {},
   "outputs": [],
   "source": [
    "dst_fldr = r\"G:\\texture\\data_1\""
   ]
  },
  {
   "cell_type": "code",
   "execution_count": 10,
   "metadata": {},
   "outputs": [
    {
     "name": "stderr",
     "output_type": "stream",
     "text": [
      "100%|████████████████████████████████████████████████████████████████████████████████| 442/442 [08:39<00:00,  1.18s/it]\n"
     ]
    }
   ],
   "source": [
    "count = 0\n",
    "for base, norm in tqdm(img_pairs):\n",
    "    base_I = Image.open(base).convert(\"RGB\").resize((1024, 1024), Image.BICUBIC)\n",
    "    norm_I = Image.open(norm).convert(\"RGB\").resize((1024, 1024), Image.BICUBIC)\n",
    "    I = np.concatenate([np.uint8(base_I), np.uint8(norm_I)], axis = 1)\n",
    "    Image.fromarray(I).save(dst_fldr + os.sep + \"{0:04d}.png\".format(count))\n",
    "    count += 1"
   ]
  },
  {
   "cell_type": "code",
   "execution_count": null,
   "metadata": {},
   "outputs": [],
   "source": []
  }
 ],
 "metadata": {
  "kernelspec": {
   "display_name": "Python 3",
   "language": "python",
   "name": "python3"
  },
  "language_info": {
   "codemirror_mode": {
    "name": "ipython",
    "version": 3
   },
   "file_extension": ".py",
   "mimetype": "text/x-python",
   "name": "python",
   "nbconvert_exporter": "python",
   "pygments_lexer": "ipython3",
   "version": "3.7.9"
  }
 },
 "nbformat": 4,
 "nbformat_minor": 4
}
